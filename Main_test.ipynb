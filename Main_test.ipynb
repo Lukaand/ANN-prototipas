{
 "cells": [
  {
   "cell_type": "code",
   "execution_count": 8,
   "source": [
    "# work in progres (neveiks)\r\n",
    "import numpy as np\r\n",
    "import pandas as pd\r\n",
    "import tensorflow as tf\r\n",
    "import os\r\n",
    "from sklearn.preprocessing import LabelEncoder\r\n",
    "from sklearn.metrics import confusion_matrix, accuracy_score, precision_score, recall_score, classification_report\r\n",
    "from itertools import permutations,combinations,product\r\n",
    "from sklearn.preprocessing import StandardScaler\r\n",
    "from sklearn.linear_model import SGDClassifier"
   ],
   "outputs": [],
   "metadata": {}
  },
  {
   "cell_type": "code",
   "execution_count": 9,
   "source": [
    "max_depth = [1,2,3]\r\n",
    "max_width = [5,6,7,8,9,10,11,12,13,14,15,16,17,18,19,20]\r\n",
    "\r\n",
    "combinations = []\r\n",
    "\r\n",
    "for depth in max_depth:\r\n",
    "    pro = [list(p) for p in product(max_width, repeat=depth)]\r\n",
    "    combinations.append(list(pro))\r\n"
   ],
   "outputs": [],
   "metadata": {}
  },
  {
   "cell_type": "code",
   "execution_count": 10,
   "source": [
    "first = True\r\n",
    "for comb in combinations:\r\n",
    "    for c in comb:\r\n",
    "        # ann carcass\r\n",
    "        ann = tf.keras.models.Sequential()\r\n",
    "        for nodes in c:\r\n",
    "            ann.add(tf.keras.layers.Dense(units=nodes, activation='relu'))\r\n",
    "        ann.add(tf.keras.layers.Dense(units=1, activation='sigmoid'))\r\n",
    "        ann.compile(optimizer = 'adam', loss = 'binary_crossentropy', metrics = ['accuracy'])\r\n",
    "        # name of ann\r\n",
    "        name = str(c)\r\n",
    "        print(name)\r\n",
    "        # checkpoints\r\n",
    "        checkpoint_path =\"ANN_files/\" + name + \"/cp.ckpt\"\r\n",
    "        checkpoint_dir = os.path.dirname(checkpoint_path)\r\n",
    "        cp_callback = tf.keras.callbacks.ModelCheckpoint(filepath=checkpoint_path, save_weights_only=True, verbose=1)\r\n",
    "        # training\r\n",
    "        times = 0\r\n",
    "        \r\n",
    "        for chunk in pd.read_csv(r'Data\\train_data.csv', chunksize=500000, low_memory = False):\r\n",
    "            if times > 3:\r\n",
    "                break\r\n",
    "            X = chunk.iloc[:, 0:-1].values\r\n",
    "            y = chunk.iloc[:, -1].values\r\n",
    "            ann.partial_fit(X, y, batch_size = 32, epochs = 100,callbacks=[cp_callback])\r\n",
    "\r\n",
    "            times_test = 0\r\n",
    "            true_cm = [[0,0],[0,0]]\r\n",
    "            for chunk in pd.read_csv(r'Data\\test_data.csv', chunksize=50000, low_memory = False):\r\n",
    "\r\n",
    "                X_test = chunk.iloc[:, 0:-1].values\r\n",
    "                y_test = chunk.iloc[:, -1].values\r\n",
    "\r\n",
    "                if times_test > 3:\r\n",
    "                    break\r\n",
    "\r\n",
    "                y_pred = ann.predict(X_test)\r\n",
    "                y_pred = (y_pred > 0.5)\r\n",
    "\r\n",
    "                cm = confusion_matrix(y_test, y_pred)\r\n",
    "\r\n",
    "                true_cm[0] = cm[0] + true_cm[0]\r\n",
    "                true_cm[1] = cm[1] + true_cm[1]\r\n",
    "                true_cm[2] = cm[2] + true_cm[2]\r\n",
    "                true_cm[3] = cm[3] + true_cm[3]\r\n",
    "                \r\n",
    "                times_test = times_test + 1\r\n",
    "\r\n",
    "            \r\n",
    "            print(true_cm)\r\n",
    "\r\n",
    "            times = times + 1 \r\n"
   ],
   "outputs": [
    {
     "output_type": "stream",
     "name": "stdout",
     "text": [
      "[5]\n"
     ]
    },
    {
     "output_type": "error",
     "ename": "AttributeError",
     "evalue": "'Sequential' object has no attribute 'partial_fit'",
     "traceback": [
      "\u001b[1;31m---------------------------------------------------------------------------\u001b[0m",
      "\u001b[1;31mAttributeError\u001b[0m                            Traceback (most recent call last)",
      "\u001b[1;32m<ipython-input-10-a4efc6173d19>\u001b[0m in \u001b[0;36m<module>\u001b[1;34m\u001b[0m\n\u001b[0;32m     23\u001b[0m             \u001b[0mX\u001b[0m \u001b[1;33m=\u001b[0m \u001b[0mchunk\u001b[0m\u001b[1;33m.\u001b[0m\u001b[0miloc\u001b[0m\u001b[1;33m[\u001b[0m\u001b[1;33m:\u001b[0m\u001b[1;33m,\u001b[0m \u001b[1;36m0\u001b[0m\u001b[1;33m:\u001b[0m\u001b[1;33m-\u001b[0m\u001b[1;36m1\u001b[0m\u001b[1;33m]\u001b[0m\u001b[1;33m.\u001b[0m\u001b[0mvalues\u001b[0m\u001b[1;33m\u001b[0m\u001b[1;33m\u001b[0m\u001b[0m\n\u001b[0;32m     24\u001b[0m             \u001b[0my\u001b[0m \u001b[1;33m=\u001b[0m \u001b[0mchunk\u001b[0m\u001b[1;33m.\u001b[0m\u001b[0miloc\u001b[0m\u001b[1;33m[\u001b[0m\u001b[1;33m:\u001b[0m\u001b[1;33m,\u001b[0m \u001b[1;33m-\u001b[0m\u001b[1;36m1\u001b[0m\u001b[1;33m]\u001b[0m\u001b[1;33m.\u001b[0m\u001b[0mvalues\u001b[0m\u001b[1;33m\u001b[0m\u001b[1;33m\u001b[0m\u001b[0m\n\u001b[1;32m---> 25\u001b[1;33m             \u001b[0mann\u001b[0m\u001b[1;33m.\u001b[0m\u001b[0mpartial_fit\u001b[0m\u001b[1;33m(\u001b[0m\u001b[0mX\u001b[0m\u001b[1;33m,\u001b[0m \u001b[0my\u001b[0m\u001b[1;33m,\u001b[0m \u001b[0mbatch_size\u001b[0m \u001b[1;33m=\u001b[0m \u001b[1;36m32\u001b[0m\u001b[1;33m,\u001b[0m \u001b[0mepochs\u001b[0m \u001b[1;33m=\u001b[0m \u001b[1;36m100\u001b[0m\u001b[1;33m,\u001b[0m\u001b[0mcallbacks\u001b[0m\u001b[1;33m=\u001b[0m\u001b[1;33m[\u001b[0m\u001b[0mcp_callback\u001b[0m\u001b[1;33m]\u001b[0m\u001b[1;33m)\u001b[0m\u001b[1;33m\u001b[0m\u001b[1;33m\u001b[0m\u001b[0m\n\u001b[0m\u001b[0;32m     26\u001b[0m \u001b[1;33m\u001b[0m\u001b[0m\n\u001b[0;32m     27\u001b[0m             \u001b[0mtimes_test\u001b[0m \u001b[1;33m=\u001b[0m \u001b[1;36m0\u001b[0m\u001b[1;33m\u001b[0m\u001b[1;33m\u001b[0m\u001b[0m\n",
      "\u001b[1;31mAttributeError\u001b[0m: 'Sequential' object has no attribute 'partial_fit'"
     ]
    }
   ],
   "metadata": {}
  },
  {
   "cell_type": "code",
   "execution_count": null,
   "source": [
    "\r\n",
    "Ch_size = 700000\r\n",
    "\r\n",
    "\r\n",
    "\r\n",
    "for chunk in pd.read_csv(r'Data\\test_data.csv', chunksize=Ch_size):\r\n",
    "    X_train = chunk.iloc[:, 0:-1].values\r\n",
    "    y_train = chunk.iloc[:, -1].values\r\n",
    "\r\n",
    "    suby = []\r\n",
    "    for i in range(len(y_train)):\r\n",
    "        if y_train[i] == 'Benign':\r\n",
    "            suby.append(0)\r\n",
    "        else:\r\n",
    "            suby.append(1)\r\n",
    "    y = suby.copy()\r\n",
    "    del suby\r\n",
    "    \r\n",
    "    sc = StandardScaler()\r\n",
    "    X_train = sc.fit_transform(X_train)\r\n",
    "\r\n",
    "    print(chunk)\r\n",
    "    break\r\n",
    "# X = dataset.iloc[:, 3:-1].values\r\n",
    "# y = dataset.iloc[:, -1].values\r\n",
    "# le = LabelEncoder()\r\n",
    "# X[:, 2] = le.fit_transform(X[:, 2])"
   ],
   "outputs": [],
   "metadata": {}
  },
  {
   "cell_type": "code",
   "execution_count": null,
   "source": [
    "from sklearn.compose import ColumnTransformer\r\n",
    "from sklearn.preprocessing import OneHotEncoder\r\n",
    "ct = ColumnTransformer(transformers=[('encoder', OneHotEncoder(), [1])], remainder='passthrough')\r\n",
    "X = np.array(ct.fit_transform(X))"
   ],
   "outputs": [],
   "metadata": {}
  },
  {
   "cell_type": "code",
   "execution_count": null,
   "source": [
    "from sklearn.model_selection import train_test_split\r\n",
    "X_train, X_test, y_train, y_test = train_test_split(X, y, test_size = 0.2, random_state = 0)"
   ],
   "outputs": [],
   "metadata": {}
  }
 ],
 "metadata": {
  "orig_nbformat": 4,
  "language_info": {
   "name": "python",
   "version": "3.9.4",
   "mimetype": "text/x-python",
   "codemirror_mode": {
    "name": "ipython",
    "version": 3
   },
   "pygments_lexer": "ipython3",
   "nbconvert_exporter": "python",
   "file_extension": ".py"
  },
  "kernelspec": {
   "name": "python3",
   "display_name": "Python 3.9.4 64-bit"
  },
  "interpreter": {
   "hash": "988ccdee98c6f280c02691a59536500eb11bb1fd9b0fe1ccc3ec258f0162fdd8"
  }
 },
 "nbformat": 4,
 "nbformat_minor": 2
}